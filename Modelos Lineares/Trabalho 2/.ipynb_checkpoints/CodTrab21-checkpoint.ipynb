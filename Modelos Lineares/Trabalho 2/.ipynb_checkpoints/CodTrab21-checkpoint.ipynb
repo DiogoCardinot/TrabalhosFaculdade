{
 "cells": [
  {
   "cell_type": "markdown",
   "id": "57fd056d-e54c-4da5-9950-8fe0f90d52ec",
   "metadata": {},
   "source": [
    "<p> Universidade do Estado do Rio de Janeiro </p>\n",
    "<p> Instituto Politécnico </p>\n",
    "<p> IPRJ-01-10765: Modelos Lineares </p>\n",
    "<p> Data: 12/05/2022 </p>\n",
    "\n",
    "### **Trabalho 1**\n",
    "**Grupo:**\n",
    "\n",
    "Alunos:\n",
    "- Matheus da Costa Harduim\n",
    "- Hugo Marchon Barbosa\n",
    "- Diogo Alves Cardinot\n",
    "- Rayssa Montecchiari Branco\n",
    "- Ibrahim Ayman Karsou\n",
    "\n",
    "**Questão 1:**  Considerando o conjunto dados, responda as questões abaixo considerando o\n",
    "modelo de regressão linear multivariado:"
   ]
  },
  {
   "cell_type": "markdown",
   "id": "1587c2b5-fc47-423b-a2ef-c7fb9872fcbd",
   "metadata": {},
   "source": [
    "Primeiramente, Iremos considerar os seguintes dados que se referem ao preco do abacate, volume total vendido e total de bolsas."
   ]
  },
  {
   "cell_type": "code",
   "execution_count": 39,
   "id": "a3dbd965-4f4f-42f4-8ec1-6bbcc9d7ca09",
   "metadata": {},
   "outputs": [
    {
     "data": {
      "text/html": [
       "<div>\n",
       "<style scoped>\n",
       "    .dataframe tbody tr th:only-of-type {\n",
       "        vertical-align: middle;\n",
       "    }\n",
       "\n",
       "    .dataframe tbody tr th {\n",
       "        vertical-align: top;\n",
       "    }\n",
       "\n",
       "    .dataframe thead th {\n",
       "        text-align: right;\n",
       "    }\n",
       "</style>\n",
       "<table border=\"1\" class=\"dataframe\">\n",
       "  <thead>\n",
       "    <tr style=\"text-align: right;\">\n",
       "      <th></th>\n",
       "      <th>AveragePrice</th>\n",
       "      <th>Total Volume</th>\n",
       "      <th>Total Bags</th>\n",
       "    </tr>\n",
       "  </thead>\n",
       "  <tbody>\n",
       "    <tr>\n",
       "      <th>0</th>\n",
       "      <td>1.33</td>\n",
       "      <td>64236.62</td>\n",
       "      <td>8696.87</td>\n",
       "    </tr>\n",
       "    <tr>\n",
       "      <th>1</th>\n",
       "      <td>1.35</td>\n",
       "      <td>54876.98</td>\n",
       "      <td>9505.56</td>\n",
       "    </tr>\n",
       "    <tr>\n",
       "      <th>2</th>\n",
       "      <td>0.93</td>\n",
       "      <td>118220.22</td>\n",
       "      <td>8145.35</td>\n",
       "    </tr>\n",
       "    <tr>\n",
       "      <th>3</th>\n",
       "      <td>1.08</td>\n",
       "      <td>78992.15</td>\n",
       "      <td>5811.16</td>\n",
       "    </tr>\n",
       "    <tr>\n",
       "      <th>4</th>\n",
       "      <td>1.28</td>\n",
       "      <td>51039.60</td>\n",
       "      <td>6183.95</td>\n",
       "    </tr>\n",
       "    <tr>\n",
       "      <th>...</th>\n",
       "      <td>...</td>\n",
       "      <td>...</td>\n",
       "      <td>...</td>\n",
       "    </tr>\n",
       "    <tr>\n",
       "      <th>18244</th>\n",
       "      <td>1.63</td>\n",
       "      <td>17074.83</td>\n",
       "      <td>13498.67</td>\n",
       "    </tr>\n",
       "    <tr>\n",
       "      <th>18245</th>\n",
       "      <td>1.71</td>\n",
       "      <td>13888.04</td>\n",
       "      <td>9264.84</td>\n",
       "    </tr>\n",
       "    <tr>\n",
       "      <th>18246</th>\n",
       "      <td>1.87</td>\n",
       "      <td>13766.76</td>\n",
       "      <td>9394.11</td>\n",
       "    </tr>\n",
       "    <tr>\n",
       "      <th>18247</th>\n",
       "      <td>1.93</td>\n",
       "      <td>16205.22</td>\n",
       "      <td>10969.54</td>\n",
       "    </tr>\n",
       "    <tr>\n",
       "      <th>18248</th>\n",
       "      <td>1.62</td>\n",
       "      <td>17489.58</td>\n",
       "      <td>12014.15</td>\n",
       "    </tr>\n",
       "  </tbody>\n",
       "</table>\n",
       "<p>18249 rows × 3 columns</p>\n",
       "</div>"
      ],
      "text/plain": [
       "       AveragePrice  Total Volume  Total Bags\n",
       "0              1.33      64236.62     8696.87\n",
       "1              1.35      54876.98     9505.56\n",
       "2              0.93     118220.22     8145.35\n",
       "3              1.08      78992.15     5811.16\n",
       "4              1.28      51039.60     6183.95\n",
       "...             ...           ...         ...\n",
       "18244          1.63      17074.83    13498.67\n",
       "18245          1.71      13888.04     9264.84\n",
       "18246          1.87      13766.76     9394.11\n",
       "18247          1.93      16205.22    10969.54\n",
       "18248          1.62      17489.58    12014.15\n",
       "\n",
       "[18249 rows x 3 columns]"
      ]
     },
     "execution_count": 39,
     "metadata": {},
     "output_type": "execute_result"
    }
   ],
   "source": [
    "import pandas as pd\n",
    "import numpy as np\n",
    "import matplotlib.pyplot as plt\n",
    "\n",
    "df = pd.read_csv('avocado.csv', sep=\";\")\n",
    "\n",
    "x_Price=np.array(df['AveragePrice'])\n",
    "x_Bags = np.array(df['Total Bags'])\n",
    "y = np.array(df['Total Volume'])\n",
    "\n",
    "pd.DataFrame(df,columns=['AveragePrice','Total Volume', 'Total Bags'])"
   ]
  },
  {
   "cell_type": "markdown",
   "id": "edac8c0d",
   "metadata": {},
   "source": [
    "#### a) Faça o gráfico de dispersão bidimensional (XY) entre a variável y e cada uma das variáveis regressoras X1,..., Xp (p gráficos separados)."
   ]
  },
  {
   "cell_type": "code",
   "execution_count": 40,
   "id": "4a6d1032",
   "metadata": {},
   "outputs": [
    {
     "data": {
      "text/plain": [
       "[<matplotlib.lines.Line2D at 0x287cb57f550>]"
      ]
     },
     "execution_count": 40,
     "metadata": {},
     "output_type": "execute_result"
    },
    {
     "data": {
      "image/png": "[encoded data removed]",
      "text/plain": [
       "<Figure size 432x288 with 1 Axes>"
      ]
     },
     "metadata": {
      "needs_background": "light"
     },
     "output_type": "display_data"
    }
   ],
   "source": [
    "#PLOT Y por X_PRICE \n",
    "plt.title(\"Volume Total Vendido X Preço\")\n",
    "plt.xlabel(\"Preço\")\n",
    "plt.ylabel(\"Volume Total Vendido\")\n",
    "plt.plot(x_Price,y, \"o\")"
   ]
  },
  {
   "cell_type": "code",
   "execution_count": 41,
   "id": "b9034b9d",
   "metadata": {},
   "outputs": [
    {
     "data": {
      "text/plain": [
       "[<matplotlib.lines.Line2D at 0x287c9aa9bb0>]"
      ]
     },
     "execution_count": 41,
     "metadata": {},
     "output_type": "execute_result"
    },
    {
     "data": {
      "image/png": "[encoded data removed]",
      "text/plain": [
       "<Figure size 432x288 with 1 Axes>"
      ]
     },
     "metadata": {
      "needs_background": "light"
     },
     "output_type": "display_data"
    }
   ],
   "source": [
    "#PLOT Y por X_Bags\n",
    "plt.title(\"Volume Total Vendido X TotalBags\")\n",
    "plt.xlabel(\"Total Bags\")\n",
    "plt.ylabel(\"Volume Total Vendido\")\n",
    "plt.plot(x_Bags,y, \"o\", color='green')"
   ]
  },
  {
   "cell_type": "markdown",
   "id": "7d1409e7",
   "metadata": {},
   "source": [
    "#### b) Estime a correlação entre a variável Y e cada uma das variáveis regressoras (ρ(Y,Xi)). Comente."
   ]
  },
  {
   "cell_type": "code",
   "execution_count": 42,
   "id": "d0a10c9c",
   "metadata": {},
   "outputs": [
    {
     "name": "stdout",
     "output_type": "stream",
     "text": [
      "Número de pontos: 18249 \n",
      "\n",
      "Coeficiente de Correlação de Y com X_Price:  -0.19275238715271953\n"
     ]
    }
   ],
   "source": [
    "N = len(y)\n",
    "print(\"Número de pontos:\", N, \"\\n\")\n",
    "\n",
    "######CORRELAÇÃO PRICE\n",
    "somatorioXPrice = 0.0 #somatorio xi\n",
    "somatorioY = 0.0 #somatorio yi\n",
    "somatorioXiPriceXmedioPriceYiYmedio = 0.0 #somatorio (xi-x_medio)(yi-y_medio)\n",
    "somatorioXiPriceXmedioPrice2 = 0.0 #somatorio (xi-x_medio)^2\n",
    "somatorioYiYmedio2 = 0.0 #somatorio (yi-y_medio)^2\n",
    "\n",
    "for i in range(N):\n",
    "    somatorioXPrice += x_Price[i]\n",
    "    somatorioY += y[i]\n",
    "    \n",
    "x_medioPrice = somatorioXPrice/N\n",
    "y_medio = somatorioY/N\n",
    "\n",
    "\n",
    "for i in range(N):\n",
    "    somatorioXiPriceXmedioPriceYiYmedio += (x_Price[i]-x_medioPrice)*(y[i]-y_medio)\n",
    "    somatorioXiPriceXmedioPrice2 += (x_Price[i] - x_medioPrice)**2\n",
    "    somatorioYiYmedio2 += (y[i]-y_medio)**2\n",
    "\n",
    "  \n",
    "coefCorrelacaoPrice = (somatorioXiPriceXmedioPriceYiYmedio)/np.sqrt(somatorioXiPriceXmedioPrice2*somatorioYiYmedio2)\n",
    "print(\"Coeficiente de Correlação de Y com X_Price: \", coefCorrelacaoPrice)\n"
   ]
  },
  {
   "cell_type": "code",
   "execution_count": 43,
   "id": "b4bb554c",
   "metadata": {},
   "outputs": [
    {
     "name": "stdout",
     "output_type": "stream",
     "text": [
      "Coeficiente de Correlação de Y com X_Bags:  0.9630470824267295\n"
     ]
    }
   ],
   "source": [
    "######CORRELAÇÃO TOTAL BAGS\n",
    "somatorioXBags = 0.0 #somatorio xi\n",
    "somatorioY = 0.0 #somatorio yi\n",
    "somatorioXiBagsXmedioBagsYiYmedio = 0.0 #somatorio (xi-x_medio)(yi-y_medio)\n",
    "somatorioXiBagsXmedioBags2 = 0.0 #somatorio (xi-x_medio)^2\n",
    "somatorioYiYmedio2 = 0.0 #somatorio (yi-y_medio)^2\n",
    "\n",
    "for i in range(N):\n",
    "    somatorioXBags += x_Bags[i]\n",
    "    somatorioY += y[i]\n",
    "    \n",
    "x_medioBags = somatorioXBags/N\n",
    "y_medio = somatorioY/N\n",
    "\n",
    "\n",
    "for i in range(N):\n",
    "    somatorioXiBagsXmedioBagsYiYmedio += (x_Bags[i]-x_medioBags)*(y[i]-y_medio)\n",
    "    somatorioXiBagsXmedioBags2 += (x_Bags[i] - x_medioBags)**2\n",
    "    somatorioYiYmedio2 += (y[i]-y_medio)**2\n",
    "  \n",
    "coefCorrelacaoBags = (somatorioXiBagsXmedioBagsYiYmedio)/np.sqrt(somatorioXiBagsXmedioBags2*somatorioYiYmedio2)\n",
    "print(\"Coeficiente de Correlação de Y com X_Bags: \", coefCorrelacaoBags)"
   ]
  },
  {
   "cell_type": "markdown",
   "id": "82df8079",
   "metadata": {},
   "source": [
    "Com base no resultado obtido para o coeficiente de correlação para cada uma das variáveis de regressão, pode-ser medir a possível relação linear existente entre as variáveis aleatórias em questão, tal coeficiente, obrigatoriamente, deve ter seu valor entre -1 e 1, sendo que quanto mais próximo das extremidades a relação entre as variáveis é forte, sendo negativamente perto de -1 e positivamente perto de 1 e quanto mais perto de 0, a relação é fraca, logo, inexistente. \n",
    "\n",
    "Pode-se perceber que o coeficiente de correlação calculado para a variável de regressão referente ao preço do abacate e o volume total vendido se aproxima mais de 0 do que de -1, indicando que existe um grau fraco de correlação entre as variáveis, correlação essa que pode ser considerada linear negativa, uma vez que seu sinal é negativo. \n",
    "\n",
    "Também pode-se perceber que o coeficiente de correlação calculado para a variável de regressão referente ao total de bolsas de abacate e o volume total vendido se aproxima de 1, indicando que existe um grau forte de correlação entre as variáveis, correlação essa que pode ser considerada linear positiva, uma vez que seu sinal é positivo.\n",
    "\n",
    "Dessa forma, a variável regressora que melhor se correlaciona com a variável em análise é a variável referente ao total de bolsas utilizadas.\n",
    "\n"
   ]
  },
  {
   "cell_type": "markdown",
   "id": "841bba1b",
   "metadata": {},
   "source": [
    "#### c) Calcule o coeficiente de determinação $R^{2}$(Y,Xi) entre a variável Y e cada uma das variáveis regressoras. Comente o resultado."
   ]
  },
  {
   "cell_type": "code",
   "execution_count": 44,
   "id": "45420ffc",
   "metadata": {},
   "outputs": [
    {
     "name": "stdout",
     "output_type": "stream",
     "text": [
      "Coeficiente de determinação do Preço:  0.03715348275307188\n",
      "Coeficiente de determinação do Total de Bags:  0.927459682970636\n"
     ]
    }
   ],
   "source": [
    "R2Price = coefCorrelacaoPrice**2\n",
    "print(\"Coeficiente de determinação do Preço: \", R2Price)\n",
    "\n",
    "R2Bags = coefCorrelacaoBags**2\n",
    "print(\"Coeficiente de determinação do Total de Bags: \", R2Bags)"
   ]
  },
  {
   "cell_type": "markdown",
   "id": "50142e8c",
   "metadata": {},
   "source": [
    "O coeficiente de determinação $R^{2}$ indica, em porcentagem, o quanto da variacão de y pode ser explicada por cada variável regressora através do modelo linear estimado. Dessa forma, na presente configuração do trabalho pode-se dizer que a variável y (Volume total vendido) é explicada cerca de 93% pela variável regressora referente ao total de bags e cerca de 4% pela variável regressora referente ao preço abacate. Logo, pode-se perceber que é muito mais fácil estimar o comportamento do volume total vendido utilizando o comportamento da variável que determina o total de sacolas vendidas, ao contrário da variável que determina a variação de preço.\n",
    "\n",
    "Com isso, pode-se perceber que a variável que melhor explica o comportamento do total vendido de abacates é o total de sacolas utilizadas."
   ]
  },
  {
   "cell_type": "markdown",
   "id": "28e05779",
   "metadata": {},
   "source": [
    "#### d) Encontre o hiperplano de quadrados mínimos (estime β0, β1, ..., βp)."
   ]
  },
  {
   "cell_type": "code",
   "execution_count": 45,
   "id": "ca466fb8",
   "metadata": {},
   "outputs": [
    {
     "name": "stdout",
     "output_type": "stream",
     "text": [
      "beta:  [[ 3.22376692e+05]\n",
      " [-1.96636099e+05]\n",
      " [ 3.35810428e+00]]\n",
      "β 0 : 322376.692307595\n",
      "β 1 : -196636.09909820167\n",
      "β 2 : 3.358104282182566\n",
      "O hiperplano que melhor se ajusta aos dados é: y= 322376.692307595 + -196636.09909820167 *x1 + 3.358104282182566 *x2\n"
     ]
    }
   ],
   "source": [
    "linhas = len(y)\n",
    "\n",
    "vec_X = np.array([np.array(x_Price), np.array(x_Bags)]) #vetor com os x_n (adicionar vetores aqui quando precisar)\n",
    "\n",
    "colunas = (len(vec_X) + 1)\n",
    "\n",
    "X = np.ones((linhas, colunas)) #cria uma matriz com 1\n",
    "\n",
    "for i in range(linhas):\n",
    "    for j in range(colunas):  \n",
    "        if j!=0 : #j=0 é a primeira coluna que deve ser de 1  \n",
    "            X[i][j] = vec_X[j-1][i] #adiciona os valores na matriz\n",
    "            \n",
    "x_t = X.T #X Transposta\n",
    "x_tx = np.dot(x_t,X) #multiplicação X Transposta * X\n",
    "x_txI = np.linalg.inv(x_tx) #inversa da multiplicação X Transposta * X\n",
    "A = np.dot(x_txI, x_t) # multiplicação da inversa com X transposta\n",
    "y_array = np.array([y]) #convertendo y para array\n",
    "Y = y_array.T #convertendo o vetor em linha para coluna\n",
    "beta = np.dot(A,Y) #resultante * y\n",
    "print(\"beta: \", beta)\n",
    "\n",
    "for i in range(len(Beta)):\n",
    "    print(\"β\",i, \":\", Beta[i])\n",
    "    \n",
    "print(\"O hiperplano que melhor se ajusta aos dados é: y=\", Beta[0], \"+\", Beta[1],\"*x1 +\" ,Beta[2] ,\"*x2\")"
   ]
  },
  {
   "cell_type": "markdown",
   "id": "aa24f6e1",
   "metadata": {},
   "source": [
    "#### e) Calcule os valores estimados de y (ou seja, ŷ) através do hiperplano estimado no item anterior."
   ]
  },
  {
   "cell_type": "code",
   "execution_count": 46,
   "id": "93a990fe",
   "metadata": {},
   "outputs": [
    {
     "name": "stdout",
     "output_type": "stream",
     "text": [
      "y^: 15523402593.400028\n",
      "15523402593.40002\n"
     ]
    }
   ],
   "source": [
    "SomatorioYChapeu = 0.0\n",
    "\n",
    "Beta = np.dot(A,y) #matriz resultante beta em linha utilizada para multiplicações\n",
    "\n",
    "for i in range(N):\n",
    "    SomatorioYChapeu += Beta[0] + Beta[1]*x_Price[i] + Beta[2]*x_Bags[i]\n",
    "    \n",
    "print(\"y^:\", SomatorioYChapeu)\n",
    "print(somatorioY)"
   ]
  },
  {
   "cell_type": "markdown",
   "id": "a449bf55",
   "metadata": {},
   "source": [
    "#### f) Calcule os resíduos, ou seja, o erro de estimação y-ŷ."
   ]
  },
  {
   "cell_type": "code",
   "execution_count": 47,
   "id": "c9a39186",
   "metadata": {},
   "outputs": [
    {
     "data": {
      "text/html": [
       "<div>\n",
       "<style scoped>\n",
       "    .dataframe tbody tr th:only-of-type {\n",
       "        vertical-align: middle;\n",
       "    }\n",
       "\n",
       "    .dataframe tbody tr th {\n",
       "        vertical-align: top;\n",
       "    }\n",
       "\n",
       "    .dataframe thead th {\n",
       "        text-align: right;\n",
       "    }\n",
       "</style>\n",
       "<table border=\"1\" class=\"dataframe\">\n",
       "  <thead>\n",
       "    <tr style=\"text-align: right;\">\n",
       "      <th></th>\n",
       "      <th>y^</th>\n",
       "      <th>e</th>\n",
       "    </tr>\n",
       "  </thead>\n",
       "  <tbody>\n",
       "    <tr>\n",
       "      <th>0</th>\n",
       "      <td>90055.676896</td>\n",
       "      <td>-25819.056896</td>\n",
       "    </tr>\n",
       "    <tr>\n",
       "      <th>1</th>\n",
       "      <td>88838.620266</td>\n",
       "      <td>-33961.640266</td>\n",
       "    </tr>\n",
       "    <tr>\n",
       "      <th>2</th>\n",
       "      <td>166858.054861</td>\n",
       "      <td>-48637.834861</td>\n",
       "    </tr>\n",
       "    <tr>\n",
       "      <th>3</th>\n",
       "      <td>129524.186562</td>\n",
       "      <td>-50532.036562</td>\n",
       "    </tr>\n",
       "    <tr>\n",
       "      <th>4</th>\n",
       "      <td>91448.834438</td>\n",
       "      <td>-40409.234438</td>\n",
       "    </tr>\n",
       "    <tr>\n",
       "      <th>...</th>\n",
       "      <td>...</td>\n",
       "      <td>...</td>\n",
       "    </tr>\n",
       "    <tr>\n",
       "      <th>18244</th>\n",
       "      <td>47189.792308</td>\n",
       "      <td>-30114.962308</td>\n",
       "    </tr>\n",
       "    <tr>\n",
       "      <th>18245</th>\n",
       "      <td>17241.261727</td>\n",
       "      <td>-3353.221727</td>\n",
       "    </tr>\n",
       "    <tr>\n",
       "      <th>18246</th>\n",
       "      <td>-13786.411988</td>\n",
       "      <td>27553.171988</td>\n",
       "    </tr>\n",
       "    <tr>\n",
       "      <th>18247</th>\n",
       "      <td>-20294.119704</td>\n",
       "      <td>36499.339704</td>\n",
       "    </tr>\n",
       "    <tr>\n",
       "      <th>18248</th>\n",
       "      <td>44170.980330</td>\n",
       "      <td>-26681.400330</td>\n",
       "    </tr>\n",
       "  </tbody>\n",
       "</table>\n",
       "<p>18249 rows × 2 columns</p>\n",
       "</div>"
      ],
      "text/plain": [
       "                  y^             e\n",
       "0       90055.676896 -25819.056896\n",
       "1       88838.620266 -33961.640266\n",
       "2      166858.054861 -48637.834861\n",
       "3      129524.186562 -50532.036562\n",
       "4       91448.834438 -40409.234438\n",
       "...              ...           ...\n",
       "18244   47189.792308 -30114.962308\n",
       "18245   17241.261727  -3353.221727\n",
       "18246  -13786.411988  27553.171988\n",
       "18247  -20294.119704  36499.339704\n",
       "18248   44170.980330 -26681.400330\n",
       "\n",
       "[18249 rows x 2 columns]"
      ]
     },
     "execution_count": 47,
     "metadata": {},
     "output_type": "execute_result"
    }
   ],
   "source": [
    "y_chapeu=[]\n",
    "somatorioResiduos = 0.0\n",
    "\n",
    "e=[]\n",
    "for i in range(N):\n",
    "    y_chapeu.append(Beta[0] + Beta[1]*x_Price[i] + Beta[2]*x_Bags[i])\n",
    "    e.append(y[i] - y_chapeu[i])\n",
    "    somatorioResiduos += e[i]\n",
    "    \n",
    "pd.DataFrame({'y^': y_chapeu,'e': e})"
   ]
  },
  {
   "cell_type": "code",
   "execution_count": 48,
   "id": "34b04cd8",
   "metadata": {},
   "outputs": [
    {
     "name": "stdout",
     "output_type": "stream",
     "text": [
      "Somatorio dos Resíduos: -1.6675912775099277e-06\n"
     ]
    }
   ],
   "source": [
    "print(\"Somatorio dos Resíduos:\", somatorioResiduos)"
   ]
  },
  {
   "cell_type": "markdown",
   "id": "7efa40e3",
   "metadata": {},
   "source": [
    "#### g) Faça o histograma dos erros de estimação encontrados no item anterior. Comente sobre sua característica."
   ]
  },
  {
   "cell_type": "code",
   "execution_count": 49,
   "id": "9c7cf27e",
   "metadata": {},
   "outputs": [
    {
     "data": {
      "image/png": "[encoded data removed]",
      "text/plain": [
       "<Figure size 1152x1152 with 1 Axes>"
      ]
     },
     "metadata": {
      "needs_background": "light"
     },
     "output_type": "display_data"
    }
   ],
   "source": [
    "# HISTOGRAMA RESÍDUOS\n",
    "plt.figure(figsize=(16,16))\n",
    "plt.title(\"Histograma de Resíduos\")\n",
    "plt.xlabel(\"Resíduo\")\n",
    "plt.ylabel(\"Taxa de ocorrência\")\n",
    "plt.hist(e,bins = 40, ec = \"k\",rwidth=0.7,color = \"royalblue\")\n",
    "plt.show()"
   ]
  },
  {
   "cell_type": "markdown",
   "id": "f36451b4-29ff-4e1b-b02b-3efc92b32a42",
   "metadata": {},
   "source": [
    "Podemos perceber pelo histograma a recorrência de alguns pontos influentes que se encontram entre 1,0 e 1,5.Além disso, pode-se considerar que os resíduos apresentam uma baixa dispersão, pois a maioria se encontra em torno de 0.0, dessa forma, pode-se concluir que esse modelo apresenta um erro relativamente baixo."
   ]
  }
 ],
 "metadata": {
  "kernelspec": {
   "display_name": "Python 3 (ipykernel)",
   "language": "python",
   "name": "python3"
  },
  "language_info": {
   "codemirror_mode": {
    "name": "ipython",
    "version": 3
   },
   "file_extension": ".py",
   "mimetype": "text/x-python",
   "name": "python",
   "nbconvert_exporter": "python",
   "pygments_lexer": "ipython3",
   "version": "3.9.7"
  }
 },
 "nbformat": 4,
 "nbformat_minor": 5
}
