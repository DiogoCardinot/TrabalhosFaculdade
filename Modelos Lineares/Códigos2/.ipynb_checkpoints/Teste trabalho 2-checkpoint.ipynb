{
 "cells": [
  {
   "cell_type": "code",
   "execution_count": 2,
   "id": "7d8c9897",
   "metadata": {},
   "outputs": [
    {
     "name": "stdout",
     "output_type": "stream",
     "text": [
      "beta:  [ 1.42482249e+00 -3.56967355e-08  4.80769957e-08]\n",
      "Beta 0 : 1.4248224912530734\n",
      "Beta 1 : -3.5696735542277286e-08\n",
      "Beta 2 : 4.807699573683384e-08\n"
     ]
    }
   ],
   "source": [
    "import pandas as pd\n",
    "import numpy as np\n",
    "df = pd.read_csv('avocado.csv', sep=\";\")\n",
    "\n",
    "x_1 = np.array(df['Total Volume'])\n",
    "x_2 = np.array(df['Total Bags'])\n",
    "y = np.array(df['AveragePrice'])\n",
    "\n",
    "linhas = len(x_1)\n",
    "\n",
    "vec_X = np.array([np.array(x_1), np.array(x_2)]) #vetor com os x_n (adicionar vetores aqui quando precisar)\n",
    "\n",
    "colunas = (len(vec_X) + 1)\n",
    "\n",
    "X = np.ones((linhas, colunas)) #cria uma matriz com 1\n",
    "# print(\"Matriz de um:\", matriz)\n",
    "\n",
    "for i in range(linhas):\n",
    "    for j in range(colunas):  \n",
    "        if j!=0 : #j=0 é a primeira coluna que deve ser de 1  \n",
    "            X[i][j] = vec_X[j-1][i] #adiciona os valores na matriz\n",
    "            \n",
    "            \n",
    "x_t = X.T #X Transposta\n",
    "# print(\"Matriz X Transposta:\\n\",x_t);\n",
    "# print(\"\\n\");\n",
    "x_tx = np.dot(x_t,X) #multiplicação X Transposta * X\n",
    "# print(\"X_transposta * X:\\n\", x_tx)\n",
    "# print(\"\\n\");\n",
    "x_txI = np.linalg.inv(x_tx) #inversa da multiplicação X Transposta * X\n",
    "# print(\"Inversa de (X_transposta * X):\\n\", x_txI)\n",
    "# print(\"\\n\");\n",
    "A = np.dot(x_txI, x_t) # multiplicação da inversa com X transposta\n",
    "# print(\"Inversa de (X_transposta * X) * X_transposta:\\n\", A)\n",
    "# print(\"\\n\");\n",
    "B = np.dot(A,y) #matriz resultante beta\n",
    "print(\"beta: \", B)\n",
    "\n",
    "\n",
    "for i in range(len(B)):\n",
    "    print(\"Beta\",i, \":\", B[i])\n",
    "\n",
    "\n",
    "\n",
    "\n",
    "\n"
   ]
  },
  {
   "cell_type": "code",
   "execution_count": null,
   "id": "bb242b7b",
   "metadata": {},
   "outputs": [],
   "source": []
  }
 ],
 "metadata": {
  "kernelspec": {
   "display_name": "Python 3 (ipykernel)",
   "language": "python",
   "name": "python3"
  },
  "language_info": {
   "codemirror_mode": {
    "name": "ipython",
    "version": 3
   },
   "file_extension": ".py",
   "mimetype": "text/x-python",
   "name": "python",
   "nbconvert_exporter": "python",
   "pygments_lexer": "ipython3",
   "version": "3.9.7"
  }
 },
 "nbformat": 4,
 "nbformat_minor": 5
}
