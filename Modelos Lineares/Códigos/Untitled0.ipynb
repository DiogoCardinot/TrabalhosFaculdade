{
  "nbformat": 4,
  "nbformat_minor": 0,
  "metadata": {
    "colab": {
      "name": "Untitled0.ipynb",
      "provenance": []
    },
    "kernelspec": {
      "name": "python3",
      "display_name": "Python 3"
    },
    "language_info": {
      "name": "python"
    }
  },
  "cells": [
    {
      "cell_type": "code",
      "execution_count": 49,
      "metadata": {
        "id": "jCDH2-XIzM6l"
      },
      "outputs": [],
      "source": [
        "import numpy as np\n",
        "import random as rd"
      ]
    },
    {
      "cell_type": "code",
      "source": [
        "numero_amostra = 5"
      ],
      "metadata": {
        "id": "burcejPNzPzq"
      },
      "execution_count": 50,
      "outputs": []
    },
    {
      "cell_type": "code",
      "source": [
        "x = np.zeros(numero_amostra)"
      ],
      "metadata": {
        "id": "pr_S4DkgzVXw"
      },
      "execution_count": 51,
      "outputs": []
    },
    {
      "cell_type": "code",
      "source": [
        "x"
      ],
      "metadata": {
        "colab": {
          "base_uri": "https://localhost:8080/"
        },
        "id": "mQOPbfxKze85",
        "outputId": "886be8db-fdb4-49ac-eeed-38559d787ff1"
      },
      "execution_count": 52,
      "outputs": [
        {
          "output_type": "execute_result",
          "data": {
            "text/plain": [
              "array([0., 0., 0., 0., 0.])"
            ]
          },
          "metadata": {},
          "execution_count": 52
        }
      ]
    },
    {
      "cell_type": "code",
      "source": [
        "for i in range(0, numero_amostra):\n",
        "  x[i] = rd.randrange(0, 100)"
      ],
      "metadata": {
        "id": "I3uQwr8M0blk"
      },
      "execution_count": 53,
      "outputs": []
    },
    {
      "cell_type": "code",
      "source": [
        "x"
      ],
      "metadata": {
        "colab": {
          "base_uri": "https://localhost:8080/"
        },
        "id": "tnuLLhWc0K5b",
        "outputId": "28705eac-cbeb-409b-c2e4-4497da15e9bf"
      },
      "execution_count": 54,
      "outputs": [
        {
          "output_type": "execute_result",
          "data": {
            "text/plain": [
              "array([51., 23., 53., 92., 94.])"
            ]
          },
          "metadata": {},
          "execution_count": 54
        }
      ]
    },
    {
      "cell_type": "code",
      "source": [
        "probabilidade = np.zeros(numero_amostra)"
      ],
      "metadata": {
        "id": "S3_UH4370wyS"
      },
      "execution_count": 55,
      "outputs": []
    },
    {
      "cell_type": "code",
      "source": [
        "soma = sum(x)"
      ],
      "metadata": {
        "id": "uUGD0GeG06wr"
      },
      "execution_count": 56,
      "outputs": []
    },
    {
      "cell_type": "code",
      "source": [
        "soma"
      ],
      "metadata": {
        "colab": {
          "base_uri": "https://localhost:8080/"
        },
        "id": "lbrnzQ_P1klp",
        "outputId": "ed74b59e-01bf-4900-ea52-b30f342e3c28"
      },
      "execution_count": 57,
      "outputs": [
        {
          "output_type": "execute_result",
          "data": {
            "text/plain": [
              "313.0"
            ]
          },
          "metadata": {},
          "execution_count": 57
        }
      ]
    },
    {
      "cell_type": "code",
      "source": [
        "for i in range(numero_amostra):\n",
        "  probabilidade[i] = x[i]/soma"
      ],
      "metadata": {
        "id": "Uc1PDl5j1lUl"
      },
      "execution_count": 58,
      "outputs": []
    },
    {
      "cell_type": "code",
      "source": [
        "probabilidade"
      ],
      "metadata": {
        "colab": {
          "base_uri": "https://localhost:8080/"
        },
        "id": "kX6SyKuD2EVe",
        "outputId": "5056d894-a641-4773-a0ec-02b823329382"
      },
      "execution_count": 59,
      "outputs": [
        {
          "output_type": "execute_result",
          "data": {
            "text/plain": [
              "array([0.1629393 , 0.07348243, 0.16932907, 0.29392971, 0.30031949])"
            ]
          },
          "metadata": {},
          "execution_count": 59
        }
      ]
    },
    {
      "cell_type": "code",
      "source": [
        "print(sum(probabilidade))"
      ],
      "metadata": {
        "colab": {
          "base_uri": "https://localhost:8080/"
        },
        "id": "NX8F1PWo2GYM",
        "outputId": "ca1362fb-7383-4c83-dbb3-e1753cf32b32"
      },
      "execution_count": 60,
      "outputs": [
        {
          "output_type": "stream",
          "name": "stdout",
          "text": [
            "1.0\n"
          ]
        }
      ]
    },
    {
      "cell_type": "code",
      "source": [
        "esperanca = 0\n",
        "i = 0\n",
        "while i < numero_amostra:\n",
        "  esperanca += x[i]*probabilidade[i]\n",
        "  i += 1"
      ],
      "metadata": {
        "id": "vMDX4g2n2bd5"
      },
      "execution_count": 61,
      "outputs": []
    },
    {
      "cell_type": "code",
      "source": [
        "esperanca"
      ],
      "metadata": {
        "colab": {
          "base_uri": "https://localhost:8080/"
        },
        "id": "LpsW_TVZ20Tl",
        "outputId": "ce9f9547-c0df-4bc2-c7bb-d2116837c08f"
      },
      "execution_count": 62,
      "outputs": [
        {
          "output_type": "execute_result",
          "data": {
            "text/plain": [
              "74.24600638977635"
            ]
          },
          "metadata": {},
          "execution_count": 62
        }
      ]
    },
    {
      "cell_type": "code",
      "source": [
        "variancia = 0\n",
        "i = 0\n",
        "while i < numero_amostra:\n",
        "  variancia += ((x[i]-esperanca)**2)*probabilidade[i]\n",
        "  i += 1"
      ],
      "metadata": {
        "id": "corHPDyL3JtH"
      },
      "execution_count": 63,
      "outputs": []
    },
    {
      "cell_type": "code",
      "source": [
        "variancia"
      ],
      "metadata": {
        "colab": {
          "base_uri": "https://localhost:8080/"
        },
        "id": "U0Wj2NLC3pSE",
        "outputId": "2b65d470-8df9-40b6-e726-5fc82a682700"
      },
      "execution_count": 64,
      "outputs": [
        {
          "output_type": "execute_result",
          "data": {
            "text/plain": [
              "567.2973083322275"
            ]
          },
          "metadata": {},
          "execution_count": 64
        }
      ]
    },
    {
      "cell_type": "code",
      "source": [
        ""
      ],
      "metadata": {
        "id": "H7E3dYly3qyT"
      },
      "execution_count": 64,
      "outputs": []
    }
  ]
}